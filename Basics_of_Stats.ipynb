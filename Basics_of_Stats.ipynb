{
  "nbformat": 4,
  "nbformat_minor": 0,
  "metadata": {
    "colab": {
      "provenance": [],
      "authorship_tag": "ABX9TyMn20ZVHJGw0dR3e89lruLe"
    },
    "kernelspec": {
      "name": "python3",
      "display_name": "Python 3"
    },
    "language_info": {
      "name": "python"
    }
  },
  "cells": [
    {
      "cell_type": "markdown",
      "source": [
        "## Types of Data\n",
        "\n",
        "Data can be broadly classified into two main types: Qualitative (or Categorical) and Quantitative.\n",
        "\n",
        "### Qualitative Data (Categorical Data)\n",
        "\n",
        "Qualitative data represents characteristics, labels, or categories. It describes qualities or attributes and cannot be measured numerically in a meaningful way.\n",
        "\n",
        "*   **Nominal Data:**\n",
        "    *   This type of data represents categories without any intrinsic order or ranking.\n",
        "    *   Examples: Gender (Male, Female, Non-binary), Eye Color (Blue, Brown, Green), Blood Type (A, B, AB, O), Marital Status (Single, Married, Divorced).\n",
        "\n",
        "*   **Ordinal Data:**\n",
        "    *   This type of data represents categories with a natural order or ranking. The difference between categories is not necessarily uniform or quantifiable.\n",
        "    *   Examples: Educational Level (High School, Bachelor's, Master's, PhD), Customer Satisfaction Rating (Very Unsatisfied, Unsatisfied, Neutral, Satisfied, Very Satisfied), Socioeconomic Status (Low, Medium, High), Ranking in a competition (1st, 2nd, 3rd).\n",
        "\n",
        "### Quantitative Data\n",
        "\n",
        "Quantitative data represents numerical values that can be measured and expressed on a numerical scale. Arithmetic operations can be performed on quantitative data.\n",
        "\n",
        "*   **Discrete Data:**\n",
        "    *   This type of data can only take on specific, distinct values, usually whole numbers. It results from counting.\n",
        "    *   Examples: Number of students in a class (you can't have half a student), Number of cars in a parking lot, Number of goals scored in a soccer game, Number of defects in a product.\n",
        "\n",
        "*   **Continuous Data:**\n",
        "    *   This type of data can take on any value within a given range. It results from measurement.\n",
        "    *   Examples: Height (can be 1.75 meters, 1.755 meters, etc.), Weight (can be 65.3 kg, 65.35 kg, etc.), Temperature (can be 25.5°C, 25.55°C, etc.), Time taken to complete a task.\n",
        "\n",
        "Understanding the type of data you are working with is crucial as it determines the appropriate statistical methods and visualizations you can use for analysis."
      ],
      "metadata": {
        "id": "p_x9M7GH3QZL"
      }
    },
    {
      "cell_type": "markdown",
      "source": [
        "## Types of Statistics\n",
        "\n",
        "Statistics can be broadly divided into two main areas: Descriptive Statistics and Inferential Statistics.\n",
        "\n",
        "### Descriptive Statistics\n",
        "\n",
        "Descriptive statistics are used to summarize and describe the main features of a dataset. They provide a concise overview of the data, making it easier to understand its key characteristics. Descriptive statistics do not involve generalizing beyond the data at hand.\n",
        "\n",
        "Common descriptive statistics include:\n",
        "\n",
        "*   **Measures of Central Tendency:**\n",
        "    *   **Mean:** The average of a dataset (sum of values divided by the number of values).\n",
        "    *   **Median:** The middle value in a dataset when arranged in order.\n",
        "    *   **Mode:** The value that appears most frequently in a dataset.\n",
        "    *   *Examples:* The average height of students in a class, the most common shoe size in a group, the median income in a city.\n",
        "*   **Measures of Variability (or Dispersion):**\n",
        "    *   **Range:** The difference between the highest and lowest values in a dataset.\n",
        "    *   **Variance:** A measure of how spread out the data is from the mean.\n",
        "    *   **Standard Deviation:** The square root of the variance, providing a more interpretable measure of spread in the same units as the data.\n",
        "    *   *Examples:* The range of temperatures in a month, the standard deviation of test scores in a class, the variance in the age of participants in a study.\n",
        "*   **Measures of Position:**\n",
        "    *   **Percentiles:** Values that divide a dataset into 100 equal parts.\n",
        "    *   **Quartiles:** Values that divide a dataset into four equal parts (25th, 50th, and 75th percentiles).\n",
        "    *   *Examples:* The 90th percentile for income, the first quartile of exam scores.\n",
        "*   **Frequency Distributions:**\n",
        "    *   Tables or graphs that show how often each value or range of values appears in a dataset.\n",
        "    *   *Examples:* A histogram showing the distribution of ages in a population, a table showing the frequency of different car colors in a parking lot.\n",
        "\n",
        "### Inferential Statistics\n",
        "\n",
        "Inferential statistics are used to make inferences, predictions, and generalizations about a larger population based on a sample of data taken from that population. They help us draw conclusions and test hypotheses.\n",
        "\n",
        "Key concepts and techniques in inferential statistics include:\n",
        "\n",
        "*   **Probability:** The likelihood of an event occurring.\n",
        "    *   *Examples:* The probability of flipping a coin and getting heads, the probability of drawing a certain card from a deck.\n",
        "*   **Sampling:** The process of selecting a representative subset of a population to study.\n",
        "    *   *Examples:* Selecting a random sample of voters to predict election results, choosing a subset of products from a production line to check for quality.\n",
        "*   **Hypothesis Testing:** A statistical method used to determine whether there is enough evidence in a sample to reject a null hypothesis (a statement of no effect or no difference).\n",
        "    *   *Examples:* Testing whether a new drug is effective in treating a disease, testing if there is a significant difference in test scores between two groups.\n",
        "*   **Confidence Intervals:** A range of values that is likely to contain the true population parameter with a certain level of confidence.\n",
        "    *   *Examples:* A 95% confidence interval for the average height of all adults in a country, a confidence interval for the proportion of people who prefer a certain brand.\n",
        "*   **Regression Analysis:** A statistical method used to examine the relationship between a dependent variable and one or more independent variables.\n",
        "    *   *Examples:* Predicting house prices based on factors like size and location, examining the relationship between advertising spending and sales.\n",
        "*   **ANOVA (Analysis of Variance):** A statistical test used to compare the means of three or more groups.\n",
        "    *   *Examples:* Comparing the effectiveness of different teaching methods on student performance, comparing the average yield of different fertilizer types.\n",
        "*   **Linear Discriminant Analysis (LDA):** A method used to find a linear combination of features that characterizes or separates two or more classes of objects or events.\n",
        "    *   *Examples:* Classifying emails as spam or not spam based on their content, classifying different types of tumors based on gene expression data.\n",
        "*   **K-Nearest Neighbors (KNN):** A simple, non-parametric algorithm used for classification and regression. It classifies a data point based on how its neighbors are classified.\n",
        "    *   *Examples:* Recommending products to a user based on the purchases of similar users, classifying a handwritten digit based on its similarity to known digits.\n",
        "*   **Decision Trees:** A flowchart-like tree structure where each internal node represents a test on an attribute, each branch represents an outcome of the test, and each leaf node represents a class label (in classification trees) or a value (in regression trees).\n",
        "    *   *Examples:* Deciding whether to approve a loan application based on income, credit score, and other factors, predicting the likelihood of a customer churning.\n",
        "\n",
        "In summary, descriptive statistics help us summarize and understand the data we have, while inferential statistics help us make educated guesses and draw conclusions about a larger group based on that data, including using various modeling techniques to predict or classify based on observed data."
      ],
      "metadata": {
        "id": "x_1gGfSY5DdI"
      }
    },
    {
      "cell_type": "markdown",
      "source": [
        "## Describiing data Graphically"
      ],
      "metadata": {
        "id": "_0I9pCV_6cGn"
      }
    },
    {
      "cell_type": "markdown",
      "source": [
        "Explain frequency distribution for qualitative data: Provide a detailed explanation of frequency distributions for qualitative data, including the concept of relative frequency and examples.\n",
        "Generate bar chart for qualitative data: Create example data for qualitative variables and generate a bar chart to visualize the frequency distribution.\n",
        "Explain frequency distribution for quantitative data: Provide a detailed explanation of frequency distributions for quantitative data, including the concepts of buckets/classes and class width, and examples.\n",
        "Generate histogram for quantitative data: Create example data for quantitative variables and generate a histogram to visualize the frequency distribution.\n"
      ],
      "metadata": {
        "id": "Lxsf65br9Lc-"
      }
    },
    {
      "cell_type": "markdown",
      "source": [
        "### Frequency Distribution for Qualitative Data\n",
        "\n",
        "A frequency distribution for qualitative data is a table or summary that shows the number of occurrences (frequency) for each category or level of a qualitative variable. It helps organize and summarize categorical data, making it easier to see the distribution of values across different categories.\n",
        "\n",
        "**Key Concepts:**\n",
        "\n",
        "*   **Category:** A distinct group or level within the qualitative variable.\n",
        "*   **Frequency:** The count of how many times each category appears in the dataset.\n",
        "*   **Relative Frequency:** The proportion of times each category appears in the dataset. It is calculated by dividing the frequency of a category by the total number of observations. Relative frequency is often expressed as a decimal or a percentage.\n",
        "\n",
        "**Formula for Relative Frequency:**\n",
        "\n",
        "$$ \\text{Relative Frequency} = \\frac{\\text{Frequency of a Category}}{\\text{Total Number of Observations}} $$\n",
        "\n",
        "**Example:**\n",
        "\n",
        "Let's say we have a dataset of the favorite colors of 20 people: Red, Blue, Green, Red, Yellow, Blue, Red, Green, Blue, Red, Yellow, Red, Blue, Green, Red, Blue, Yellow, Red, Green, Blue.\n",
        "\n",
        "To create a frequency distribution for this qualitative data (Favorite Color), we would count the occurrences of each color:\n",
        "\n",
        "| Favorite Color | Frequency | Relative Frequency |\n",
        "| :------------- | :-------- | :----------------- |\n",
        "| Red            | 7         | 7/20 = 0.35 (35%)  |\n",
        "| Blue           | 6         | 6/20 = 0.30 (30%)  |\n",
        "| Green          | 4         | 4/20 = 0.20 (20%)  |\n",
        "| Yellow         | 3         | 3/20 = 0.15 (15%)  |\n",
        "| **Total**      | **20**    | **1.00 (100%)**    |\n",
        "\n",
        "In this table:\n",
        "\n",
        "*   The \"Favorite Color\" column lists the categories.\n",
        "*   The \"Frequency\" column shows how many people chose each color.\n",
        "*   The \"Relative Frequency\" column shows the proportion of people who chose each color.\n",
        "\n",
        "This frequency distribution table provides a clear summary of the favorite colors in this group of 20 people. We can quickly see that Red is the most popular color, and Yellow is the least popular. The relative frequencies allow for easy comparison of the proportions of each category."
      ],
      "metadata": {
        "id": "IdvTRuHo9LVR"
      }
    },
    {
      "cell_type": "code",
      "execution_count": 6,
      "metadata": {
        "colab": {
          "base_uri": "https://localhost:8080/",
          "height": 564
        },
        "id": "OirXZFaw3Kp2",
        "outputId": "f2214205-dee1-4e67-a44c-1d0feff6273b"
      },
      "outputs": [
        {
          "output_type": "display_data",
          "data": {
            "text/plain": [
              "<Figure size 800x600 with 1 Axes>"
            ],
            "image/png": "[encoded data removed]"
          },
          "metadata": {}
        }
      ],
      "source": [
        "import pandas as pd\n",
        "import matplotlib.pyplot as plt\n",
        "import seaborn as sns\n",
        "\n",
        "# Data for favorite colors\n",
        "data = {'Favorite Color': ['Red', 'Blue', 'Green', 'Red', 'Yellow', 'Blue', 'Red', 'Green', 'Blue', 'Red', 'Yellow', 'Red', 'Blue', 'Green', 'Red', 'Blue', 'Yellow', 'Red', 'Green', 'Blue']}\n",
        "\n",
        "df_colors = pd.DataFrame(data)\n",
        "\n",
        "# Calculate frequency distribution\n",
        "frequency_distribution = df_colors['Favorite Color'].value_counts().reset_index()\n",
        "frequency_distribution.columns = ['Favorite Color', 'Frequency']\n",
        "\n",
        "# Generate bar chart\n",
        "plt.figure(figsize=(8, 6))\n",
        "sns.barplot(x='Favorite Color', y='Frequency', data=frequency_distribution)\n",
        "plt.title('Frequency Distribution of Favorite Colors')\n",
        "plt.xlabel('Favorite Color')\n",
        "plt.ylabel('Frequency')\n",
        "plt.show()"
      ]
    },
    {
      "cell_type": "markdown",
      "source": [
        "### Frequency Distribution for Quantitative Data\n",
        "\n",
        "A frequency distribution for quantitative data is a way to organize and summarize numerical data by grouping it into intervals or \"buckets\" and showing the number of observations (frequency) that fall into each interval. Unlike qualitative data where each category has its own frequency, quantitative data, especially continuous data, often has too many unique values to list individually. Grouping the data helps to reveal patterns and the shape of the distribution.\n",
        "\n",
        "**Key Concepts:**\n",
        "\n",
        "*   **Classes or Bins (Buckets):** These are the intervals into which the quantitative data is grouped. Each class has a lower limit and an upper limit. The classes should be mutually exclusive (no overlap) and exhaustive (cover the entire range of the data).\n",
        "*   **Class Width:** The range of values within a class. It is the difference between the upper limit and the lower limit of a class. For consistency, it's often best to use equal class widths.\n",
        "*   **Frequency:** The count of how many data points fall within each class.\n",
        "*   **Relative Frequency:** The proportion of data points that fall within each class. Calculated by dividing the frequency of a class by the total number of observations.\n",
        "\n",
        "**How to Create a Frequency Distribution for Quantitative Data:**\n",
        "\n",
        "1.  **Determine the Number of Classes:** There's no strict rule, but typically between 5 and 20 classes are used. The choice can depend on the amount of data and the desired level of detail.\n",
        "2.  **Determine the Class Width:**\n",
        "    *   Calculate the Range of the data (Maximum Value - Minimum Value).\n",
        "    *   Divide the Range by the desired number of classes. Round up to a convenient number.\n",
        "    $$ \\text{Class Width} \\approx \\frac{\\text{Range}}{\\text{Number of Classes}} $$\n",
        "3.  **Define the Class Limits:** Start with the minimum value or a slightly lower convenient number for the lower limit of the first class. Add the class width to get the upper limit of the first class. Use this pattern to define the limits for all classes. Ensure the classes cover the entire range of the data.\n",
        "4.  **Tally the Frequencies:** Go through the dataset and count how many observations fall into each class.\n",
        "5.  **Calculate Relative Frequencies (Optional but Recommended):** Divide the frequency of each class by the total number of observations.\n",
        "\n",
        "**Example:**\n",
        "\n",
        "Let's say we have the ages of 25 people: 22, 29, 35, 41, 25, 38, 45, 52, 31, 27, 48, 33, 39, 44, 50, 26, 30, 42, 36, 28, 47, 34, 40, 23, 49.\n",
        "\n",
        "1.  **Range:** Maximum age = 52, Minimum age = 22. Range = 52 - 22 = 30.\n",
        "2.  **Number of Classes:** Let's choose 7 classes.\n",
        "3.  **Class Width:** Class Width $\\approx$ 30 / 7 $\\approx$ 4.28. Let's round up to a class width of 5 for convenience.\n",
        "4.  **Define Class Limits and Tally Frequencies:**\n",
        "\n",
        "| Age Group (Class) | Frequency | Relative Frequency |\n",
        "| :---------------- | :-------- | :----------------- |\n",
        "| 20 - 24           | 2         | 2/25 = 0.08 (8%)   |\n",
        "| 25 - 29           | 6         | 6/25 = 0.24 (24%)  |\n",
        "| 30 - 34           | 4         | 4/25 = 0.16 (16%)  |\n",
        "| 35 - 39           | 4         | 4/25 = 0.16 (16%)  |\n",
        "| 40 - 44           | 4         | 4/25 = 0.16 (16%)  |\n",
        "| 45 - 49           | 3         | 3/25 = 0.12 (12%)  |\n",
        "| 50 - 54           | 2         | 2/25 = 0.08 (8%)   |\n",
        "| **Total**         | **25**    | **1.00 (100%)**    |\n",
        "\n",
        "*Note: When defining class limits, you need to be clear about how to handle values that fall exactly on the boundary between two classes. A common practice is to include the lower limit in the class and exclude the upper limit, except for the last class which includes both limits. For example, 20-24 would include ages 20, 21, 22, 23, 24.*\n",
        "\n",
        "This frequency distribution table for quantitative data (Ages) shows how the ages are distributed across different age groups. We can see that the most frequent age group is 25-29."
      ],
      "metadata": {
        "id": "ZFemvMRb-m3k"
      }
    },
    {
      "cell_type": "code",
      "source": [
        "# Ages data\n",
        "ages = [22, 29, 35, 41, 25, 38, 45, 52, 31, 27, 48, 33, 39, 44, 50, 26, 30, 42, 36, 28, 47, 34, 40, 23, 49]\n",
        "\n",
        "# Define the bins based on the class limits\n",
        "bins = [20, 25, 30, 35, 40, 45, 50, 55] # Upper limits of the classes (exclusive, except for the last)\n",
        "\n",
        "# Create histogram\n",
        "plt.figure(figsize=(8, 6))\n",
        "sns.histplot(ages, bins=bins, kde=False, color='skyblue', edgecolor='black')\n",
        "plt.title('Frequency Distribution of Ages')\n",
        "plt.xlabel('Age')\n",
        "plt.ylabel('Frequency')\n",
        "plt.xticks(bins[:-1], [f'{bins[i]}-{bins[i+1]-1}' for i in range(len(bins)-1)]) # Label x-axis with class intervals\n",
        "plt.show()"
      ],
      "metadata": {
        "colab": {
          "base_uri": "https://localhost:8080/",
          "height": 564
        },
        "id": "nK-Knqid9K64",
        "outputId": "700668a0-69cf-493d-c0af-811e95e731c7"
      },
      "execution_count": 7,
      "outputs": [
        {
          "output_type": "display_data",
          "data": {
            "text/plain": [
              "<Figure size 800x600 with 1 Axes>"
            ],
            "image/png": "[encoded data removed]"
          },
          "metadata": {}
        }
      ]
    },
    {
      "cell_type": "code",
      "source": [],
      "metadata": {
        "id": "aH8GkfMF-2e_"
      },
      "execution_count": null,
      "outputs": []
    }
  ]
}